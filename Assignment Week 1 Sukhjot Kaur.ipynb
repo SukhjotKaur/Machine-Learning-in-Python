{
 "cells": [
  {
   "cell_type": "markdown",
   "id": "7afe8c39-6140-4845-b7f9-acd2905774cd",
   "metadata": {},
   "source": [
    "### Lists:\n",
    "1. Write a Python program to sum all the items in a list.\n",
    "2. Create a function that takes a list of numbers as input and returns a new list with only the even numbers from the original list.\n",
    "3. Write a Python program to remove duplicates from a list.\n",
    "4. Implement a function to find the second largest number in a list.\n",
    "5. Write a Python program to shuffle and print a list."
   ]
  },
  {
   "cell_type": "code",
   "execution_count": 3,
   "id": "b013426a-9780-4d0c-965b-b6d9beef1a40",
   "metadata": {},
   "outputs": [
    {
     "name": "stdin",
     "output_type": "stream",
     "text": [
      " 10 20\n"
     ]
    },
    {
     "name": "stdout",
     "output_type": "stream",
     "text": [
      "<class 'list'>\n",
      "[10, 20]\n",
      "30\n"
     ]
    }
   ],
   "source": [
    "def sum_list(list):\n",
    "    sum=0\n",
    "    for item in list:\n",
    "        sum=sum+item\n",
    "    return sum\n",
    "arr=input().split()\n",
    "list=[int(x) for x in arr] \n",
    "print(type(list))\n",
    "print(list)\n",
    "print(sum_list(list))"
   ]
  },
  {
   "cell_type": "code",
   "execution_count": 8,
   "id": "e218069f-e50c-47a3-ba12-60c0aa196502",
   "metadata": {},
   "outputs": [
    {
     "name": "stdin",
     "output_type": "stream",
     "text": [
      " 10 8 7\n"
     ]
    },
    {
     "name": "stdout",
     "output_type": "stream",
     "text": [
      "[10, 8]\n"
     ]
    }
   ],
   "source": [
    "def even_list(list):\n",
    "    y=[]\n",
    "    for i in list:\n",
    "        if i%2==0:\n",
    "            y.append(i)\n",
    "    return y\n",
    "arr=input().split()\n",
    "list=[int(x) for x in arr]\n",
    "print(even_list(list))"
   ]
  },
  {
   "cell_type": "code",
   "execution_count": 11,
   "id": "7534b048-58db-4125-8535-1f987fb7c801",
   "metadata": {},
   "outputs": [
    {
     "name": "stdin",
     "output_type": "stream",
     "text": [
      " 1 1 2 3 4 2\n"
     ]
    },
    {
     "name": "stdout",
     "output_type": "stream",
     "text": [
      "[1, 2, 3, 4]\n"
     ]
    }
   ],
   "source": [
    "def rem_dupes(list):\n",
    "    no_dupe=[]\n",
    "    for i in list:\n",
    "        if i not in no_dupe:\n",
    "            no_dupe.append(i)\n",
    "    return no_dupe\n",
    "    \n",
    "arr=input().split()\n",
    "list=[int(x) for x in arr]\n",
    "print(rem_dupes(list))"
   ]
  },
  {
   "cell_type": "code",
   "execution_count": 33,
   "id": "6cefcd97-4199-435f-9f20-71dfdb3454da",
   "metadata": {},
   "outputs": [
    {
     "name": "stdin",
     "output_type": "stream",
     "text": [
      " 1 2 1 11\n"
     ]
    },
    {
     "name": "stdout",
     "output_type": "stream",
     "text": [
      "2\n"
     ]
    }
   ],
   "source": [
    "def second_lrg(list):\n",
    "    list.sort()\n",
    "    k= list[-2]\n",
    "    return k\n",
    "arr=input().split()\n",
    "list=[int(x) for x in arr]\n",
    "print(second_lrg(list))"
   ]
  },
  {
   "cell_type": "code",
   "execution_count": 38,
   "id": "b5e48162-7680-41a3-86a9-8c36b266fcc7",
   "metadata": {},
   "outputs": [
    {
     "name": "stdin",
     "output_type": "stream",
     "text": [
      " 1 a 23\n"
     ]
    },
    {
     "name": "stdout",
     "output_type": "stream",
     "text": [
      "['23', 'a', '1']\n"
     ]
    }
   ],
   "source": [
    "from random import shuffle\n",
    "def shuf(list):\n",
    "    shuffle(list)\n",
    "    return list\n",
    "arr=input().split()\n",
    "print(shuf(arr))"
   ]
  },
  {
   "cell_type": "markdown",
   "id": "64dbeceb-438b-4b07-8d93-6255277627a9",
   "metadata": {},
   "source": [
    "### Tuples:\n",
    "1. Write a Python program to reverse a tuple.\n",
    "2. Create a function that takes two tuples as input and returns a new tuple containing elements that are common in both tuples.\n",
    "3. Write a Python program to convert a tuple to a string.\n",
    "4. Implement a function to find the index of an element in a tuple.\n",
    "5. Create a program to concatenate two tuples."
   ]
  },
  {
   "cell_type": "code",
   "execution_count": 46,
   "id": "5142b67f-5ff3-4f12-bcf9-fee31d9982f0",
   "metadata": {},
   "outputs": [
    {
     "name": "stdin",
     "output_type": "stream",
     "text": [
      " 1,2,3\n",
      " 3,4,5\n"
     ]
    },
    {
     "name": "stdout",
     "output_type": "stream",
     "text": [
      "Original tuple: (1, 2, 3)\n",
      "Reversed tuple: (3, 2, 1)\n",
      "Tuple 1: (1, 2, 3)\n",
      "Tuple 2: (3, 4, 5)\n",
      "Common elements: (3,)\n",
      "Original tuple: (1, 2, 3)\n",
      "Converted string: 1, 2, 3\n"
     ]
    },
    {
     "name": "stdin",
     "output_type": "stream",
     "text": [
      "Enter the element to find:  2\n"
     ]
    },
    {
     "name": "stdout",
     "output_type": "stream",
     "text": [
      "Index of 2 : 1\n",
      "Original tuples: (1, 2, 3) (3, 4, 5)\n",
      "Concatenated tuple: (1, 2, 3, 3, 4, 5)\n"
     ]
    }
   ],
   "source": [
    "def reverse_tuple(my_tuple):\n",
    "  return my_tuple[::-1]\n",
    "\n",
    "def find_common(tuple1, tuple2):\n",
    "  common_elements = set(tuple1) & set(tuple2)\n",
    "  return tuple(common_elements)\n",
    "\n",
    "def tuple_to_string(my_tuple):\n",
    "  return ', '.join(str(x) for x in my_tuple)\n",
    "\n",
    "def find_index(my_tuple, element):\n",
    "  return my_tuple.index(element)\n",
    "\n",
    "def concatenate_tuples(tuple1, tuple2):\n",
    "  return tuple1 + tuple2\n",
    "\n",
    "\n",
    "user_input1 = input()\n",
    "tuple1 =tuple(int(x) for x in user_input1.split(\",\"))\n",
    "user_input2 = input()\n",
    "tuple2 =tuple(int(x) for x in user_input2.split(\",\"))\n",
    "\n",
    "reversed_tuple = reverse_tuple(tuple1)\n",
    "print(\"Original tuple:\", tuple1)\n",
    "print(\"Reversed tuple:\", reversed_tuple)\n",
    "\n",
    "common_tuple = find_common(tuple1, tuple2)\n",
    "print(\"Tuple 1:\", tuple1)\n",
    "print(\"Tuple 2:\", tuple2)\n",
    "print(\"Common elements:\", common_tuple)\n",
    "\n",
    "converted_string = tuple_to_string(tuple1)\n",
    "print(\"Original tuple:\", tuple1)\n",
    "print(\"Converted string:\", converted_string)\n",
    "\n",
    "element_to_find = int(input(\"Enter the element to find: \"))\n",
    "index = find_index(tuple1, element_to_find)\n",
    "print(\"Index of\", element_to_find, \":\", index if index != -1 else \"Not found\")\n",
    "\n",
    "concatenated_tuple = concatenate_tuples(tuple1, tuple2)\n",
    "print(\"Original tuples:\", tuple1, tuple2)\n",
    "print(\"Concatenated tuple:\", concatenated_tuple)"
   ]
  },
  {
   "cell_type": "markdown",
   "id": "eda46ba9-a262-44db-8bd6-5f0f7336f1a1",
   "metadata": {},
   "source": [
    "### Dictionaries:\n",
    "1. Write a Python script to sort (ascending and descending) a dictionary by its values.\n",
    "2. Create a function that takes a dictionary as input and returns the sum of all its values.\n",
    "3. Write a Python program to combine two dictionary adding values for common keys.\n",
    "4. Implement a function to check if a given key already exists in a dictionary.\n",
    "5. Create a program to iterate over dictionaries using loops and comprehensions, printing key-value pairs.\n"
   ]
  },
  {
   "cell_type": "code",
   "execution_count": 49,
   "id": "aff5ebd8-ce54-4409-8df9-2e0f81afb8ca",
   "metadata": {},
   "outputs": [
    {
     "name": "stdout",
     "output_type": "stream",
     "text": [
      "Sorted ascending: {'banana': 3, 'apple': 5, 'cherry': 10, 'mango': 20}\n",
      "Sorted descending: {'mango': 20, 'cherry': 10, 'apple': 5, 'banana': 3}\n",
      "Sum of values: 38\n",
      "Combined dictionary: {'apple': 4, 'banana': 3, 'cherry': 10, 'mango': 2}\n",
      "Key 'banana' exists: True\n",
      "Key: apple, Value: 5\n",
      "Key: banana, Value: 3\n",
      "Key: cherry, Value: 10\n",
      "Key: mango, Value: 20\n",
      "['apple: 5', 'banana: 3', 'cherry: 10', 'mango: 20']\n"
     ]
    }
   ],
   "source": [
    "def sort_by_value(my_dict, ascending=True):\n",
    "  return dict(sorted(my_dict.items(), key=lambda item: item[1], reverse=not ascending))\n",
    "\n",
    "def sum_values(my_dict):\n",
    "  return sum(my_dict.values())\n",
    "\n",
    "def combine_dicts(dict1, dict2):\n",
    "  combined_dict = {**dict1, **dict2}\n",
    "  for key in set(dict1) & set(dict2):\n",
    "    combined_dict[key] += dict2[key]\n",
    "  return combined_dict\n",
    "\n",
    "def key_exists(my_dict, key):\n",
    "  return key in my_dict\n",
    "\n",
    "def iterate_dict(my_dict):\n",
    "  for key, value in my_dict.items():\n",
    "    print(f\"Key: {key}, Value: {value}\")\n",
    "  print([f\"{key}: {value}\" for key, value in my_dict.items()])\n",
    "\n",
    "my_dict = {\"apple\": 5, \"banana\": 3, \"cherry\": 10, \"mango\":20}\n",
    "\n",
    "sorted_dict_asc = sort_by_value(my_dict.copy())\n",
    "print(\"Sorted ascending:\", sorted_dict_asc)\n",
    "\n",
    "sorted_dict_desc = sort_by_value(my_dict.copy(), ascending=False)\n",
    "print(\"Sorted descending:\", sorted_dict_desc)\n",
    "\n",
    "total_sum = sum_values(my_dict)\n",
    "print(\"Sum of values:\", total_sum)\n",
    "\n",
    "dict2 = {\"apple\": 2, \"mango\": 1}\n",
    "combined_dict = combine_dicts(my_dict.copy(), dict2.copy())\n",
    "print(\"Combined dictionary:\", combined_dict)\n",
    "\n",
    "key_to_find = \"banana\"\n",
    "exists = key_exists(my_dict, key_to_find)\n",
    "print(f\"Key '{key_to_find}' exists:\", exists)\n",
    "\n",
    "iterate_dict(my_dict.copy())\n"
   ]
  },
  {
   "cell_type": "markdown",
   "id": "1af26d46-0f7f-434e-b42f-32ab74902f11",
   "metadata": {},
   "source": [
    "### Sets:\n",
    "1. Write a Python program to create a set.\n",
    "2. Create a function that takes two sets as input and returns a new set containing elements that are common in both sets.\n",
    "3. Write a Python program to find the difference between two sets.\n",
    "4. Implement a function to check if a set is a subset of another set.\n",
    "5. Create a program to perform set operations like union, intersection, difference, and symmetric difference."
   ]
  },
  {
   "cell_type": "code",
   "execution_count": 50,
   "id": "03b11e0e-210a-4bc2-89dd-8c91ab70ab1a",
   "metadata": {},
   "outputs": [
    {
     "name": "stdin",
     "output_type": "stream",
     "text": [
      "Enter elements separated by spaces:  1 2 a \n"
     ]
    },
    {
     "name": "stdout",
     "output_type": "stream",
     "text": [
      "set: {'a', '1', '2'}\n"
     ]
    },
    {
     "name": "stdin",
     "output_type": "stream",
     "text": [
      "Enter elements separated by spaces:  1 3 w\n",
      "Enter elements separated by spaces:  a q w\n"
     ]
    },
    {
     "name": "stdout",
     "output_type": "stream",
     "text": [
      "Common elements: {'w'}\n",
      "Difference: {'3', '1'}\n"
     ]
    },
    {
     "name": "stdin",
     "output_type": "stream",
     "text": [
      "Enter elements separated by spaces:  1 2 3\n",
      "Enter elements separated by spaces:  2 34\n"
     ]
    },
    {
     "name": "stdout",
     "output_type": "stream",
     "text": [
      "{'3', '1', '2'} is not a subset of {'34', '2'}\n"
     ]
    }
   ],
   "source": [
    "def create_set():\n",
    "  elements = input(\"Enter elements separated by spaces: \").split()\n",
    "  return set(elements)\n",
    "\n",
    "def common_elements(set1, set2):\n",
    "  return set1.intersection(set2)\n",
    "\n",
    "def set_difference(set1, set2):\n",
    "  return set1.difference(set2)\n",
    "\n",
    "def is_subset(subset, superset):\n",
    "  return subset.issubset(superset)\n",
    "\n",
    "def set_operations():\n",
    "  set1 = create_set()\n",
    "  set2 = create_set()\n",
    "\n",
    "  print(\"Set 1:\", set1)\n",
    "  print(\"Set 2:\", set2)\n",
    "\n",
    "  union_set = set1.union(set2)\n",
    "  print(\"Union:\", union_set)\n",
    "\n",
    "  intersection_set = common_elements(set1, set2)\n",
    "  print(\"Intersection:\", intersection_set)\n",
    "\n",
    "  # Difference\n",
    "  difference1 = set_difference(set1, set2)\n",
    "  difference2 = set_difference(set2, set1)\n",
    "  print(\"Difference (Set 1 - Set 2):\", difference1)\n",
    "  print(\"Difference (Set 2 - Set 1):\", difference2)\n",
    "\n",
    "  # Symmetric Difference\n",
    "  symmetric_difference = set1.symmetric_difference(set2)\n",
    "  print(\"Symmetric Difference:\", symmetric_difference)\n",
    "\n",
    "\n",
    "my_set = create_set()\n",
    "print(\"set:\", my_set)\n",
    "set1 = create_set()\n",
    "set2 = create_set()\n",
    "common = common_elements(set1, set2)\n",
    "print(\"Common elements:\", common if common else \"No common elements found\")\n",
    "\n",
    "difference = set_difference(set1, set2)\n",
    "print(\"Difference:\", difference)\n",
    "\n",
    "subset = create_set()\n",
    "superset = create_set()\n",
    "is_subset_result = is_subset(subset, superset)\n",
    "print(f\"{subset} is a subset of {superset}\" if is_subset_result else f\"{subset} is not a subset of {superset}\")"
   ]
  },
  {
   "cell_type": "code",
   "execution_count": null,
   "id": "c966d4d8-f52c-40b7-ba1e-3eedbbcb31ae",
   "metadata": {},
   "outputs": [],
   "source": []
  }
 ],
 "metadata": {
  "kernelspec": {
   "display_name": "Python 3 (ipykernel)",
   "language": "python",
   "name": "python3"
  },
  "language_info": {
   "codemirror_mode": {
    "name": "ipython",
    "version": 3
   },
   "file_extension": ".py",
   "mimetype": "text/x-python",
   "name": "python",
   "nbconvert_exporter": "python",
   "pygments_lexer": "ipython3",
   "version": "3.11.7"
  }
 },
 "nbformat": 4,
 "nbformat_minor": 5
}
